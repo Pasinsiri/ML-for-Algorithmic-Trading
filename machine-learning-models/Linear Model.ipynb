{
 "cells": [
  {
   "cell_type": "markdown",
   "metadata": {},
   "source": [
    "The FAMA - French Five-Factor model."
   ]
  },
  {
   "cell_type": "code",
   "execution_count": 10,
   "metadata": {},
   "outputs": [],
   "source": [
    "import pandas_datareader.data as web\n",
    "import statsmodels.api as stp\n",
    "import pandas as pd"
   ]
  },
  {
   "cell_type": "markdown",
   "metadata": {},
   "source": [
    "Use returns at a monthly frequency obtaining from period 2010-2017."
   ]
  },
  {
   "cell_type": "code",
   "execution_count": 3,
   "metadata": {},
   "outputs": [
    {
     "name": "stdout",
     "output_type": "stream",
     "text": [
      "<class 'pandas.core.frame.DataFrame'>\n",
      "PeriodIndex: 96 entries, 2010-01 to 2017-12\n",
      "Freq: M\n",
      "Data columns (total 6 columns):\n",
      "Mkt-RF    96 non-null float64\n",
      "SMB       96 non-null float64\n",
      "HML       96 non-null float64\n",
      "RMW       96 non-null float64\n",
      "CMA       96 non-null float64\n",
      "RF        96 non-null float64\n",
      "dtypes: float64(6)\n",
      "memory usage: 5.2 KB\n"
     ]
    }
   ],
   "source": [
    "ff_factor = 'F-F_Research_Data_5_Factors_2x3'\n",
    "ff_factor_data = web.DataReader(ff_factor, 'famafrench',\n",
    "                                start = '2010', end = '2017-12')[0]\n",
    "ff_factor_data.info()"
   ]
  },
  {
   "cell_type": "markdown",
   "metadata": {},
   "source": [
    "Use a panel of the 17 industry portfolios at a monthly frequency."
   ]
  },
  {
   "cell_type": "code",
   "execution_count": 4,
   "metadata": {},
   "outputs": [
    {
     "name": "stdout",
     "output_type": "stream",
     "text": [
      "<class 'pandas.core.frame.DataFrame'>\n",
      "PeriodIndex: 96 entries, 2010-01 to 2017-12\n",
      "Freq: M\n",
      "Data columns (total 17 columns):\n",
      "Food     96 non-null float64\n",
      "Mines    96 non-null float64\n",
      "Oil      96 non-null float64\n",
      "Clths    96 non-null float64\n",
      "Durbl    96 non-null float64\n",
      "Chems    96 non-null float64\n",
      "Cnsum    96 non-null float64\n",
      "Cnstr    96 non-null float64\n",
      "Steel    96 non-null float64\n",
      "FabPr    96 non-null float64\n",
      "Machn    96 non-null float64\n",
      "Cars     96 non-null float64\n",
      "Trans    96 non-null float64\n",
      "Utils    96 non-null float64\n",
      "Rtail    96 non-null float64\n",
      "Finan    96 non-null float64\n",
      "Other    96 non-null float64\n",
      "dtypes: float64(17)\n",
      "memory usage: 13.5 KB\n"
     ]
    }
   ],
   "source": [
    "ff_portf = '17_Industry_Portfolios'\n",
    "ff_portf_data = web.DataReader(ff_portf, 'famafrench', start = '2010',\n",
    "                               end = '2017-12')[0]\n",
    "ff_portf_data = ff_portf_data.sub(ff_factor_data.RF, axis = 0)\n",
    "ff_factor_data = ff_factor_data.drop('RF', axis = 1)\n",
    "ff_portf_data.info()"
   ]
  },
  {
   "cell_type": "markdown",
   "metadata": {},
   "source": [
    "# Fama-Macbeth Regression"
   ]
  },
  {
   "cell_type": "markdown",
   "metadata": {},
   "source": [
    "### The first stage: N time-series regression"
   ]
  },
  {
   "cell_type": "code",
   "execution_count": 12,
   "metadata": {},
   "outputs": [
    {
     "name": "stdout",
     "output_type": "stream",
     "text": [
      "<class 'pandas.core.frame.DataFrame'>\n",
      "Index: 17 entries, Food  to Other\n",
      "Data columns (total 5 columns):\n",
      "Mkt-RF    17 non-null float64\n",
      "SMB       17 non-null float64\n",
      "HML       17 non-null float64\n",
      "RMW       17 non-null float64\n",
      "CMA       17 non-null float64\n",
      "dtypes: float64(5)\n",
      "memory usage: 1.4+ KB\n"
     ]
    }
   ],
   "source": [
    "betas = []\n",
    "for industry in ff_portf_data:\n",
    "    step1 = stp.OLS(endog=ff_portf_data[industry],\n",
    "                    exog = stp.add_constant(ff_factor_data)).fit()\n",
    "    betas.append(step1.params.drop('const'))\n",
    "betas = pd.DataFrame(betas, columns = ff_factor_data.columns,\n",
    "                     index = ff_portf_data.columns)\n",
    "betas.info()"
   ]
  },
  {
   "cell_type": "markdown",
   "metadata": {},
   "source": [
    "### The second stage: T cross-sectional regression, one for each time period"
   ]
  },
  {
   "cell_type": "code",
   "execution_count": 13,
   "metadata": {},
   "outputs": [
    {
     "name": "stdout",
     "output_type": "stream",
     "text": [
      "<class 'pandas.core.frame.DataFrame'>\n",
      "PeriodIndex: 96 entries, 2010-01 to 2017-12\n",
      "Freq: M\n",
      "Data columns (total 5 columns):\n",
      "Mkt-RF    96 non-null float64\n",
      "SMB       96 non-null float64\n",
      "HML       96 non-null float64\n",
      "RMW       96 non-null float64\n",
      "CMA       96 non-null float64\n",
      "dtypes: float64(5)\n",
      "memory usage: 7.0 KB\n"
     ]
    }
   ],
   "source": [
    "lambdas = []\n",
    "for period in ff_portf_data.index:\n",
    "    step2 = stp.OLS(endog = ff_portf_data.loc[period, betas.index],\n",
    "                    exog = betas).fit()\n",
    "    lambdas.append(step2.params)\n",
    "lambdas = pd.DataFrame(lambdas, index = ff_portf_data.index,\n",
    "                       columns = betas.columns.tolist())\n",
    "lambdas.info()"
   ]
  },
  {
   "cell_type": "markdown",
   "metadata": {},
   "source": [
    "Then compute the average for the 96 periods to obtain our factor risk premium estimates:"
   ]
  },
  {
   "cell_type": "code",
   "execution_count": 14,
   "metadata": {},
   "outputs": [
    {
     "data": {
      "text/plain": [
       "Mkt-RF    1.181043\n",
       "SMB       0.112553\n",
       "HML      -1.234931\n",
       "RMW      -0.341728\n",
       "CMA      -0.627899\n",
       "dtype: float64"
      ]
     },
     "execution_count": 14,
     "metadata": {},
     "output_type": "execute_result"
    }
   ],
   "source": [
    "lambdas.mean()"
   ]
  },
  {
   "cell_type": "markdown",
   "metadata": {},
   "source": [
    "Then use the linear_models library."
   ]
  },
  {
   "cell_type": "markdown",
   "metadata": {},
   "source": [
    "# Use Linear Regression to Predict Returns"
   ]
  },
  {
   "cell_type": "markdown",
   "metadata": {},
   "source": [
    "## Data Preparation"
   ]
  },
  {
   "cell_type": "markdown",
   "metadata": {},
   "source": [
    "### Universe Creation and Time Horizon"
   ]
  },
  {
   "cell_type": "markdown",
   "metadata": {},
   "source": [
    "Use equity data between 2014 and 2015 from a custom Q100US universe, select the 100 stocks with the highest average dollar volume of the last 200 trading days."
   ]
  },
  {
   "cell_type": "code",
   "execution_count": 19,
   "metadata": {},
   "outputs": [],
   "source": [
    "def Q100US():\n",
    "    return filters.make_us_equity_universe(target_size = 100,\n",
    "                                          rankby = factors.AverageDollarVolume(window_length = 200),\n",
    "                                          mask = filters.default_us_equity_universe_mask(),\n",
    "                                          groupby = classifiers.fundamentals.Sector(),\n",
    "                                          max_group_weight = 0.3,\n",
    "                                          smoothing_func = lambda f: f.downsample('month_start'))"
   ]
  },
  {
   "cell_type": "markdown",
   "metadata": {},
   "source": [
    "### Target Return Computation"
   ]
  },
  {
   "cell_type": "markdown",
   "metadata": {},
   "source": [
    "Test predictions for various lookahead periods to identify the best holding periods that generate the best predictability, measured by the information coefficient."
   ]
  },
  {
   "cell_type": "code",
   "execution_count": 21,
   "metadata": {},
   "outputs": [
    {
     "ename": "ModuleNotFoundError",
     "evalue": "No module named 'zipline'",
     "output_type": "error",
     "traceback": [
      "\u001b[0;31m---------------------------------------------------------------------------\u001b[0m",
      "\u001b[0;31mModuleNotFoundError\u001b[0m                       Traceback (most recent call last)",
      "\u001b[0;32m<ipython-input-21-ab8bff6e5ffb>\u001b[0m in \u001b[0;36m<module>\u001b[0;34m\u001b[0m\n\u001b[0;32m----> 1\u001b[0;31m \u001b[0;32mimport\u001b[0m \u001b[0mzipline\u001b[0m\u001b[0;34m\u001b[0m\u001b[0;34m\u001b[0m\u001b[0m\n\u001b[0m",
      "\u001b[0;31mModuleNotFoundError\u001b[0m: No module named 'zipline'"
     ]
    }
   ],
   "source": []
  },
  {
   "cell_type": "code",
   "execution_count": null,
   "metadata": {},
   "outputs": [],
   "source": []
  }
 ],
 "metadata": {
  "kernelspec": {
   "display_name": "Python 3",
   "language": "python",
   "name": "python3"
  },
  "language_info": {
   "codemirror_mode": {
    "name": "ipython",
    "version": 3
   },
   "file_extension": ".py",
   "mimetype": "text/x-python",
   "name": "python",
   "nbconvert_exporter": "python",
   "pygments_lexer": "ipython3",
   "version": "3.7.4"
  }
 },
 "nbformat": 4,
 "nbformat_minor": 4
}
